{
 "cells": [
  {
   "cell_type": "code",
   "execution_count": 1,
   "metadata": {},
   "outputs": [
    {
     "data": {
      "text/html": [
       "<div>\n",
       "<style scoped>\n",
       "    .dataframe tbody tr th:only-of-type {\n",
       "        vertical-align: middle;\n",
       "    }\n",
       "\n",
       "    .dataframe tbody tr th {\n",
       "        vertical-align: top;\n",
       "    }\n",
       "\n",
       "    .dataframe thead th {\n",
       "        text-align: right;\n",
       "    }\n",
       "</style>\n",
       "<table border=\"1\" class=\"dataframe\">\n",
       "  <thead>\n",
       "    <tr style=\"text-align: right;\">\n",
       "      <th></th>\n",
       "      <th>Tiempo 2</th>\n",
       "      <th>Ct</th>\n",
       "      <th>Tiempo 3</th>\n",
       "      <th>Tiempo 4</th>\n",
       "      <th>St</th>\n",
       "      <th>latencia</th>\n",
       "    </tr>\n",
       "    <tr>\n",
       "      <th>Tiempo 1</th>\n",
       "      <th></th>\n",
       "      <th></th>\n",
       "      <th></th>\n",
       "      <th></th>\n",
       "      <th></th>\n",
       "      <th></th>\n",
       "    </tr>\n",
       "  </thead>\n",
       "  <tbody>\n",
       "    <tr>\n",
       "      <th>17,897741</th>\n",
       "      <td>17.901152</td>\n",
       "      <td>0.003411</td>\n",
       "      <td>18.836418</td>\n",
       "      <td>18.852433</td>\n",
       "      <td>0.016015</td>\n",
       "      <td>0.012604</td>\n",
       "    </tr>\n",
       "    <tr>\n",
       "      <th>17,905333</th>\n",
       "      <td>17.908411</td>\n",
       "      <td>0.003078</td>\n",
       "      <td>18.913049</td>\n",
       "      <td>18.918549</td>\n",
       "      <td>0.005500</td>\n",
       "      <td>0.002422</td>\n",
       "    </tr>\n",
       "    <tr>\n",
       "      <th>18,690389</th>\n",
       "      <td>19.693400</td>\n",
       "      <td>1.003011</td>\n",
       "      <td>18.920318</td>\n",
       "      <td>18.922050</td>\n",
       "      <td>0.001732</td>\n",
       "      <td>1.001279</td>\n",
       "    </tr>\n",
       "    <tr>\n",
       "      <th>18,697340</th>\n",
       "      <td>18.700401</td>\n",
       "      <td>0.003061</td>\n",
       "      <td>18.924347</td>\n",
       "      <td>18.924865</td>\n",
       "      <td>0.000519</td>\n",
       "      <td>0.002542</td>\n",
       "    </tr>\n",
       "    <tr>\n",
       "      <th>18,714836</th>\n",
       "      <td>18.718434</td>\n",
       "      <td>0.003598</td>\n",
       "      <td>18.926728</td>\n",
       "      <td>18.928899</td>\n",
       "      <td>0.002171</td>\n",
       "      <td>0.001427</td>\n",
       "    </tr>\n",
       "    <tr>\n",
       "      <th>18,741672</th>\n",
       "      <td>18.748611</td>\n",
       "      <td>0.006939</td>\n",
       "      <td>18.931218</td>\n",
       "      <td>18.933942</td>\n",
       "      <td>0.002171</td>\n",
       "      <td>0.004768</td>\n",
       "    </tr>\n",
       "    <tr>\n",
       "      <th>18,756915</th>\n",
       "      <td>18.764468</td>\n",
       "      <td>0.007553</td>\n",
       "      <td>18.938942</td>\n",
       "      <td>18.938676</td>\n",
       "      <td>0.002724</td>\n",
       "      <td>0.004829</td>\n",
       "    </tr>\n",
       "    <tr>\n",
       "      <th>18,765348</th>\n",
       "      <td>18.774891</td>\n",
       "      <td>0.009543</td>\n",
       "      <td>18.939549</td>\n",
       "      <td>18.943685</td>\n",
       "      <td>0.000266</td>\n",
       "      <td>0.009277</td>\n",
       "    </tr>\n",
       "    <tr>\n",
       "      <th>18,775816</th>\n",
       "      <td>18.784395</td>\n",
       "      <td>0.008579</td>\n",
       "      <td>18.945960</td>\n",
       "      <td>18.948906</td>\n",
       "      <td>0.004137</td>\n",
       "      <td>0.004442</td>\n",
       "    </tr>\n",
       "    <tr>\n",
       "      <th>18,848229</th>\n",
       "      <td>18.853964</td>\n",
       "      <td>0.005735</td>\n",
       "      <td>18.950324</td>\n",
       "      <td>18.954039</td>\n",
       "      <td>0.002945</td>\n",
       "      <td>0.002789</td>\n",
       "    </tr>\n",
       "    <tr>\n",
       "      <th>18,854434</th>\n",
       "      <td>18.859311</td>\n",
       "      <td>0.004877</td>\n",
       "      <td>18.954949</td>\n",
       "      <td>18.960419</td>\n",
       "      <td>0.003716</td>\n",
       "      <td>0.001161</td>\n",
       "    </tr>\n",
       "    <tr>\n",
       "      <th>18,861202</th>\n",
       "      <td>18.867577</td>\n",
       "      <td>0.006375</td>\n",
       "      <td>18.962357</td>\n",
       "      <td>18.965582</td>\n",
       "      <td>0.005470</td>\n",
       "      <td>0.000905</td>\n",
       "    </tr>\n",
       "    <tr>\n",
       "      <th>18,885449</th>\n",
       "      <td>18.935237</td>\n",
       "      <td>0.049788</td>\n",
       "      <td>18.966507</td>\n",
       "      <td>18.971955</td>\n",
       "      <td>0.003225</td>\n",
       "      <td>0.046563</td>\n",
       "    </tr>\n",
       "    <tr>\n",
       "      <th>19,014346</th>\n",
       "      <td>19.018823</td>\n",
       "      <td>0.004477</td>\n",
       "      <td>18.972560</td>\n",
       "      <td>18.976980</td>\n",
       "      <td>0.005448</td>\n",
       "      <td>0.000971</td>\n",
       "    </tr>\n",
       "    <tr>\n",
       "      <th>19,019146</th>\n",
       "      <td>19.023654</td>\n",
       "      <td>0.004508</td>\n",
       "      <td>18.971804</td>\n",
       "      <td>18.982117</td>\n",
       "      <td>0.004420</td>\n",
       "      <td>0.000088</td>\n",
       "    </tr>\n",
       "    <tr>\n",
       "      <th>19,136124</th>\n",
       "      <td>19.144108</td>\n",
       "      <td>0.007984</td>\n",
       "      <td>18.983907</td>\n",
       "      <td>18.986407</td>\n",
       "      <td>0.010313</td>\n",
       "      <td>0.002328</td>\n",
       "    </tr>\n",
       "    <tr>\n",
       "      <th>19,144705</th>\n",
       "      <td>19.152728</td>\n",
       "      <td>0.008023</td>\n",
       "      <td>18.991898</td>\n",
       "      <td>18.993551</td>\n",
       "      <td>0.002500</td>\n",
       "      <td>0.005523</td>\n",
       "    </tr>\n",
       "    <tr>\n",
       "      <th>19,153213</th>\n",
       "      <td>19.159776</td>\n",
       "      <td>0.006563</td>\n",
       "      <td>18.995283</td>\n",
       "      <td>18.999853</td>\n",
       "      <td>0.001653</td>\n",
       "      <td>0.004910</td>\n",
       "    </tr>\n",
       "    <tr>\n",
       "      <th>19,160257</th>\n",
       "      <td>19.166935</td>\n",
       "      <td>0.006678</td>\n",
       "      <td>19.002614</td>\n",
       "      <td>19.005908</td>\n",
       "      <td>0.004570</td>\n",
       "      <td>0.002108</td>\n",
       "    </tr>\n",
       "    <tr>\n",
       "      <th>19,167411</th>\n",
       "      <td>19.173581</td>\n",
       "      <td>0.006170</td>\n",
       "      <td>19.014727</td>\n",
       "      <td>19.012605</td>\n",
       "      <td>0.003294</td>\n",
       "      <td>0.002876</td>\n",
       "    </tr>\n",
       "  </tbody>\n",
       "</table>\n",
       "</div>"
      ],
      "text/plain": [
       "            Tiempo 2        Ct   Tiempo 3   Tiempo 4        St  latencia\n",
       "Tiempo 1                                                                \n",
       "17,897741  17.901152  0.003411  18.836418  18.852433  0.016015  0.012604\n",
       "17,905333  17.908411  0.003078  18.913049  18.918549  0.005500  0.002422\n",
       "18,690389  19.693400  1.003011  18.920318  18.922050  0.001732  1.001279\n",
       "18,697340  18.700401  0.003061  18.924347  18.924865  0.000519  0.002542\n",
       "18,714836  18.718434  0.003598  18.926728  18.928899  0.002171  0.001427\n",
       "18,741672  18.748611  0.006939  18.931218  18.933942  0.002171  0.004768\n",
       "18,756915  18.764468  0.007553  18.938942  18.938676  0.002724  0.004829\n",
       "18,765348  18.774891  0.009543  18.939549  18.943685  0.000266  0.009277\n",
       "18,775816  18.784395  0.008579  18.945960  18.948906  0.004137  0.004442\n",
       "18,848229  18.853964  0.005735  18.950324  18.954039  0.002945  0.002789\n",
       "18,854434  18.859311  0.004877  18.954949  18.960419  0.003716  0.001161\n",
       "18,861202  18.867577  0.006375  18.962357  18.965582  0.005470  0.000905\n",
       "18,885449  18.935237  0.049788  18.966507  18.971955  0.003225  0.046563\n",
       "19,014346  19.018823  0.004477  18.972560  18.976980  0.005448  0.000971\n",
       "19,019146  19.023654  0.004508  18.971804  18.982117  0.004420  0.000088\n",
       "19,136124  19.144108  0.007984  18.983907  18.986407  0.010313  0.002328\n",
       "19,144705  19.152728  0.008023  18.991898  18.993551  0.002500  0.005523\n",
       "19,153213  19.159776  0.006563  18.995283  18.999853  0.001653  0.004910\n",
       "19,160257  19.166935  0.006678  19.002614  19.005908  0.004570  0.002108\n",
       "19,167411  19.173581  0.006170  19.014727  19.012605  0.003294  0.002876"
      ]
     },
     "execution_count": 1,
     "metadata": {},
     "output_type": "execute_result"
    }
   ],
   "source": [
    "import pandas as pd\n",
    "import matplotlib.pyplot as plt\n",
    "import numpy as ny\n",
    "import altair as alt\n",
    "from vega_datasets import data\n",
    "alt.renderers.enable('default')\n",
    "\n",
    "tabla = pd.read_csv( \"./LAB de latencia.csv\", index_col=0)\n",
    "\n",
    "def puntos(x):\n",
    "    x = x.replace(\",\",\".\")   \n",
    "    return x\n",
    "\n",
    "for i in tabla:\n",
    "    tabla[i] = tabla[i].apply(puntos).astype(float)\n",
    "\n",
    "tabla.head(20)\n",
    "\n",
    "\n"
   ]
  },
  {
   "cell_type": "code",
   "execution_count": 3,
   "metadata": {},
   "outputs": [
    {
     "data": {
      "text/plain": [
       "(array([19.,  0.,  0.,  0.,  0.,  0.,  0.,  0.,  0.,  0.,  0.,  0.,  0.,\n",
       "         0.,  1.]),\n",
       " array([8.82000000e-05, 6.68342333e-02, 1.33580267e-01, 2.00326300e-01,\n",
       "        2.67072333e-01, 3.33818367e-01, 4.00564400e-01, 4.67310433e-01,\n",
       "        5.34056467e-01, 6.00802500e-01, 6.67548533e-01, 7.34294567e-01,\n",
       "        8.01040600e-01, 8.67786633e-01, 9.34532667e-01, 1.00127870e+00]),\n",
       " <BarContainer object of 15 artists>)"
      ]
     },
     "execution_count": 3,
     "metadata": {},
     "output_type": "execute_result"
    },
    {
     "data": {
      "image/png": "[encoded data removed]",
      "text/plain": [
       "<Figure size 432x288 with 1 Axes>"
      ]
     },
     "metadata": {
      "needs_background": "light"
     },
     "output_type": "display_data"
    }
   ],
   "source": [
    "plt.hist(tabla[\"latencia\"],15,color=\"blue\",ec=\"black\")"
   ]
  },
  {
   "cell_type": "code",
   "execution_count": 4,
   "metadata": {},
   "outputs": [
    {
     "data": {
      "text/plain": [
       "(array([19.,  0.,  0.,  0.,  0.,  0.,  0.,  0.,  0.,  0.,  0.,  0.,  0.,\n",
       "         0.,  1.]),\n",
       " array([0.003061  , 0.06972433, 0.13638767, 0.203051  , 0.26971433,\n",
       "        0.33637767, 0.403041  , 0.46970433, 0.53636767, 0.603031  ,\n",
       "        0.66969433, 0.73635767, 0.803021  , 0.86968433, 0.93634767,\n",
       "        1.003011  ]),\n",
       " <BarContainer object of 15 artists>)"
      ]
     },
     "execution_count": 4,
     "metadata": {},
     "output_type": "execute_result"
    },
    {
     "data": {
      "image/png": "[encoded data removed]",
      "text/plain": [
       "<Figure size 432x288 with 1 Axes>"
      ]
     },
     "metadata": {
      "needs_background": "light"
     },
     "output_type": "display_data"
    }
   ],
   "source": [
    "plt.hist(tabla[\"Ct\"],15,color=\"blue\",ec=\"black\")"
   ]
  },
  {
   "cell_type": "code",
   "execution_count": 5,
   "metadata": {},
   "outputs": [
    {
     "data": {
      "text/plain": [
       "(array([2., 4., 5., 3., 4., 0., 0., 0., 0., 1., 0., 0., 0., 0., 1.]),\n",
       " array([0.000266  , 0.00131593, 0.00236587, 0.0034158 , 0.00446573,\n",
       "        0.00551567, 0.0065656 , 0.00761553, 0.00866547, 0.0097154 ,\n",
       "        0.01076533, 0.01181527, 0.0128652 , 0.01391513, 0.01496507,\n",
       "        0.016015  ]),\n",
       " <BarContainer object of 15 artists>)"
      ]
     },
     "execution_count": 5,
     "metadata": {},
     "output_type": "execute_result"
    },
    {
     "data": {
      "image/png": "[encoded data removed]",
      "text/plain": [
       "<Figure size 432x288 with 1 Axes>"
      ]
     },
     "metadata": {
      "needs_background": "light"
     },
     "output_type": "display_data"
    }
   ],
   "source": [
    "plt.hist(tabla[\"St\"],15,color=\"blue\",ec=\"black\")"
   ]
  }
 ],
 "metadata": {
  "interpreter": {
   "hash": "4ce0e62306dd6a5716965d4519ada776f947e6dfc145b604b11307c10277ef29"
  },
  "kernelspec": {
   "display_name": "Python 3.9.2 64-bit",
   "name": "python3"
  },
  "language_info": {
   "codemirror_mode": {
    "name": "ipython",
    "version": 3
   },
   "file_extension": ".py",
   "mimetype": "text/x-python",
   "name": "python",
   "nbconvert_exporter": "python",
   "pygments_lexer": "ipython3",
   "version": "3.9.2"
  }
 },
 "nbformat": 4,
 "nbformat_minor": 4
}
